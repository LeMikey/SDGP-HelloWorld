{
  "nbformat": 4,
  "nbformat_minor": 0,
  "metadata": {
    "colab": {
      "name": "main_Flood.ipynb",
      "provenance": [],
      "collapsed_sections": [],
      "authorship_tag": "ABX9TyPtBAFWBinOsx8+D9LVJ8wj",
      "include_colab_link": true
    },
    "kernelspec": {
      "name": "python3",
      "display_name": "Python 3"
    },
    "language_info": {
      "name": "python"
    }
  },
  "cells": [
    {
      "cell_type": "markdown",
      "metadata": {
        "id": "view-in-github",
        "colab_type": "text"
      },
      "source": [
        "<a href=\"https://colab.research.google.com/github/LeMikey/SDGP-HelloWorld/blob/main/Flood%20Prediction/main_Flood.ipynb\" target=\"_parent\"><img src=\"https://colab.research.google.com/assets/colab-badge.svg\" alt=\"Open In Colab\"/></a>"
      ]
    },
    {
      "cell_type": "markdown",
      "source": [
        "# **Flood Prediction System**\n"
      ],
      "metadata": {
        "id": "3l95MMRWc7hW"
      }
    },
    {
      "cell_type": "markdown",
      "source": [
        "**Imports**"
      ],
      "metadata": {
        "id": "UKGq07MYjsmq"
      }
    },
    {
      "cell_type": "code",
      "execution_count": 2,
      "metadata": {
        "id": "r6ctAw-el1Sp"
      },
      "outputs": [],
      "source": [
        "import numpy as np\n",
        "import pandas as pd\n",
        "import matplotlib.pyplot as plt\n",
        "%matplotlib inline\n",
        "from sklearn import preprocessing\n",
        "from sklearn import model_selection,neighbors\n",
        "from sklearn.model_selection import train_test_split\n",
        "from sklearn.model_selection import cross_val_score\n",
        "from sklearn.linear_model import LogisticRegression\n",
        "from sklearn.metrics import accuracy_score,recall_score,roc_auc_score,confusion_matrix"
      ]
    },
    {
      "cell_type": "markdown",
      "source": [
        "**Dataset collection**"
      ],
      "metadata": {
        "id": "AGiqvlW3jyFR"
      }
    },
    {
      "cell_type": "code",
      "source": [
        "# Get the dataset required\n",
        "dataSet = pd.read_csv('Monthly rainfall & flood.csv')\n",
        "dataSet.head()"
      ],
      "metadata": {
        "id": "WA5PQ-Cc7csh"
      },
      "execution_count": null,
      "outputs": []
    },
    {
      "cell_type": "code",
      "source": [
        "# Selecting month depending on input\n",
        "\n",
        "month = input(\"Enter month: \")\n",
        "\n",
        "if month == \"january\":\n",
        "    monthly_RF = dataSet.iloc[:,1:2]\n",
        "    monthly_F = dataSet.iloc[:, -1]\n",
        "\n",
        "elif month == \"february\":\n",
        "    monthly_RF = dataSet.iloc[:,2:3]\n",
        "    monthly_F = dataSet.iloc[:, -1]\n",
        "\n",
        "elif month == \"march\":\n",
        "    monthly_RF = dataSet.iloc[:,3:4]\n",
        "    monthly_F = dataSet.iloc[:, -1]\n",
        "\n",
        "elif month == \"april\":\n",
        "    monthly_RF = dataSet.iloc[:,4:5]\n",
        "    monthly_F = dataSet.iloc[:, -1]\n",
        "\n",
        "elif month == \"may\":\n",
        "    monthly_RF = dataSet.iloc[:,5:6]\n",
        "    monthly_F = dataSet.iloc[:, -1]\n",
        "\n",
        "elif month == \"june\":\n",
        "    monthly_RF = dataSet.iloc[:,6:7]\n",
        "    monthly_F = dataSet.iloc[:, -1]\n",
        "\n",
        "elif month == \"july\":\n",
        "    monthly_RF = dataSet.iloc[:,7:8]\n",
        "    monthly_F = dataSet.iloc[:, -1]\n",
        "\n",
        "elif month == \"august\":\n",
        "    monthly_RF = dataSet.iloc[:,8:9]\n",
        "    monthly_F = dataSet.iloc[:, -1]\n",
        "\n",
        "elif month == \"september\": \n",
        "    monthly_RF = dataSet.iloc[:,9:10]\n",
        "    monthly_F = dataSet.iloc[:, -1]\n",
        "\n",
        "elif month == \"october\":\n",
        "    monthly_RF = dataSet.iloc[:,10:11]\n",
        "    monthly_F = dataSet.iloc[:, -1]\n",
        "\n",
        "elif month == \"november\":\n",
        "    monthly_RF = dataSet.iloc[:,11:12]\n",
        "    monthly_F = dataSet.iloc[:, -1]\n",
        "\n",
        "elif month == \"december\":\n",
        "    monthly_RF = dataSet.iloc[:,12:13]\n",
        "    monthly_F = dataSet.iloc[:, -1]\n",
        "else:\n",
        "    print (\"Incorrect month!\")\n"
      ],
      "metadata": {
        "id": "ngBAswcd8l5Q",
        "colab": {
          "base_uri": "https://localhost:8080/"
        },
        "outputId": "fe45268c-5dd6-40d7-fc1d-c999d69b98e5"
      },
      "execution_count": 21,
      "outputs": [
        {
          "name": "stdout",
          "output_type": "stream",
          "text": [
            "Enter month: december\n"
          ]
        }
      ]
    },
    {
      "cell_type": "code",
      "source": [
        "# Scaling data between 0 - 1\n",
        "minmax = preprocessing.MinMaxScaler(feature_range=(0,1))\n",
        "minmax.fit(monthly_RF).transform(monthly_RF)\n"
      ],
      "metadata": {
        "id": "BeruqgzL9ecI"
      },
      "execution_count": null,
      "outputs": []
    },
    {
      "cell_type": "code",
      "source": [
        "# Split the datasets into train and test \n",
        "monthly_RF_train, monthly_RF_test, monthly_F_train, monthly_F_test=train_test_split(monthly_RF, monthly_F, test_size=0.2)\n"
      ],
      "metadata": {
        "id": "92QPdLqQ_PH_"
      },
      "execution_count": 28,
      "outputs": []
    },
    {
      "cell_type": "code",
      "source": [
        "monthly_RF_train.head()"
      ],
      "metadata": {
        "id": "pyiOSUuQAwRW"
      },
      "execution_count": null,
      "outputs": []
    },
    {
      "cell_type": "code",
      "source": [
        "monthly_RF_test.head()"
      ],
      "metadata": {
        "id": "Hu23Tsm7qZX1"
      },
      "execution_count": null,
      "outputs": []
    },
    {
      "cell_type": "code",
      "source": [
        "monthly_F_train.head()"
      ],
      "metadata": {
        "id": "zVJZpr26A-Zv"
      },
      "execution_count": null,
      "outputs": []
    },
    {
      "cell_type": "code",
      "source": [
        "monthly_F_test.head()"
      ],
      "metadata": {
        "id": "Rhf_AsEqqfve"
      },
      "execution_count": null,
      "outputs": []
    },
    {
      "cell_type": "markdown",
      "source": [
        "## Logistic Regression Machine Learning Algorithm"
      ],
      "metadata": {
        "id": "ZJ9U4kNhBw4G"
      }
    },
    {
      "cell_type": "markdown",
      "source": [
        "**Calculations**"
      ],
      "metadata": {
        "id": "Mo0hRrWxeWPJ"
      }
    },
    {
      "cell_type": "code",
      "source": [
        "#Prediction model\n",
        "monthly_RF_train_std = minmax.fit_transform(monthly_RF_train)\n",
        "monthly_RF_test_std = minmax.transform(monthly_RF_test)\n",
        "\n",
        "lr = LogisticRegression()\n",
        "lr_clf = lr.fit(monthly_RF_train_std, monthly_F_train)\n",
        "\n",
        "lr_accuracy = cross_val_score(lr_clf, monthly_RF_train_std, monthly_F_train, cv=3, scoring='accuracy', n_jobs=-1)\n",
        "\n",
        "lr_accuracy.mean()"
      ],
      "metadata": {
        "id": "1aZUuzjLBG6Q",
        "colab": {
          "base_uri": "https://localhost:8080/"
        },
        "outputId": "1bfc37e7-925a-4814-b392-880d620169dc"
      },
      "execution_count": 29,
      "outputs": [
        {
          "output_type": "execute_result",
          "data": {
            "text/plain": [
              "0.6212121212121212"
            ]
          },
          "metadata": {},
          "execution_count": 29
        }
      ]
    },
    {
      "cell_type": "markdown",
      "source": [
        "**Comparing predicted and actual results**"
      ],
      "metadata": {
        "id": "kN6FfZMNeNLZ"
      }
    },
    {
      "cell_type": "code",
      "source": [
        "#Comparing predictions with real life data\n",
        "monthly_F_predict = lr_clf.predict(monthly_RF_train_std)\n",
        "print('Flood has been predicted.')\n",
        "print(monthly_F_predict)\n",
        "\n",
        "print('Actual chances of flood')\n",
        "print(monthly_F_train.values)\n"
      ],
      "metadata": {
        "id": "KXmsyrSHCgde",
        "colab": {
          "base_uri": "https://localhost:8080/"
        },
        "outputId": "d6fcb3e1-eeb7-4a22-b24b-1f83702af2d5"
      },
      "execution_count": null,
      "outputs": [
        {
          "output_type": "stream",
          "name": "stdout",
          "text": [
            "Flood has been predicted.\n",
            "[1 1 0 0 1 1 1 0 0 1 1 1 1 1 0 1 0 1 0 1 1 1 0 1 1 1 1 1 0 1 1 1]\n",
            "Actual chances of flood\n",
            "[1 1 1 0 1 1 0 0 0 1 0 0 1 1 0 1 1 1 0 1 0 1 0 0 0 1 1 1 0 1 0 1]\n"
          ]
        }
      ]
    },
    {
      "cell_type": "markdown",
      "source": [
        "**Getting final accuracy**"
      ],
      "metadata": {
        "id": "yeJZhPaHyMG0"
      }
    },
    {
      "cell_type": "code",
      "source": [
        "print(\"\\naccuracy score: %f\"%(accuracy_score(monthly_F_train,monthly_F_predict)*100))\n",
        "print(\"recall score: %f\"%(recall_score(monthly_F_train,monthly_F_predict)*100))\n",
        "print(\"roc score: %f\"%(roc_auc_score(monthly_F_train,monthly_F_predict)*100))"
      ],
      "metadata": {
        "colab": {
          "base_uri": "https://localhost:8080/"
        },
        "id": "BkVu4XO3yLts",
        "outputId": "53446d48-331c-4f10-ed5f-841584091a53"
      },
      "execution_count": null,
      "outputs": [
        {
          "output_type": "stream",
          "name": "stdout",
          "text": [
            "\n",
            "accuracy score: 71.875000\n",
            "recall score: 88.888889\n",
            "roc score: 69.444444\n"
          ]
        }
      ]
    },
    {
      "cell_type": "markdown",
      "source": [
        "**Defining flood risk**"
      ],
      "metadata": {
        "id": "C54YYgCrkA5i"
      }
    },
    {
      "cell_type": "code",
      "source": [
        "#Seperating the prediction out into three categories, High risk, Medium risk and Low risk\n",
        "if (accuracy_score(monthly_F_train,monthly_F_predict)*100)>=65:{\n",
        "    print(\"High risk of flood in \" + month)\n",
        "}\n",
        "elif (accuracy_score(monthly_F_train,monthly_F_predict)*100)>=35: {\n",
        "    print(\"Medium risk of flood in \" + month)\n",
        "}\n",
        "else: {\n",
        "    print(\"Low risk of flood in \" + month)\n",
        "}"
      ],
      "metadata": {
        "colab": {
          "base_uri": "https://localhost:8080/"
        },
        "id": "PrzppoEQWnGM",
        "outputId": "a803d3b3-98b1-4902-db6c-b6d887877730"
      },
      "execution_count": null,
      "outputs": [
        {
          "output_type": "stream",
          "name": "stdout",
          "text": [
            "High risk of flood in december\n"
          ]
        }
      ]
    }
  ]
}