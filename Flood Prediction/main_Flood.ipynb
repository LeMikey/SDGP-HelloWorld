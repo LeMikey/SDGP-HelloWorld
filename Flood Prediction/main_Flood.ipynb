{
  "nbformat": 4,
  "nbformat_minor": 0,
  "metadata": {
    "colab": {
      "name": "main_Flood.ipynb",
      "provenance": [],
      "collapsed_sections": [],
      "authorship_tag": "ABX9TyM0IioU5jVFXLsv6u77vcrS",
      "include_colab_link": true
    },
    "kernelspec": {
      "name": "python3",
      "display_name": "Python 3"
    },
    "language_info": {
      "name": "python"
    }
  },
  "cells": [
    {
      "cell_type": "markdown",
      "metadata": {
        "id": "view-in-github",
        "colab_type": "text"
      },
      "source": [
        "<a href=\"https://colab.research.google.com/github/LeMikey/SDGP-HelloWorld/blob/main/Flood%20Prediction/main_Flood.ipynb\" target=\"_parent\"><img src=\"https://colab.research.google.com/assets/colab-badge.svg\" alt=\"Open In Colab\"/></a>"
      ]
    },
    {
      "cell_type": "markdown",
      "source": [
        "# **Flood Prediction System**\n"
      ],
      "metadata": {
        "id": "3l95MMRWc7hW"
      }
    },
    {
      "cell_type": "markdown",
      "source": [
        "**Imports**"
      ],
      "metadata": {
        "id": "UKGq07MYjsmq"
      }
    },
    {
      "cell_type": "code",
      "execution_count": null,
      "metadata": {
        "id": "r6ctAw-el1Sp"
      },
      "outputs": [],
      "source": [
        "import numpy as np\n",
        "import pandas as pd\n",
        "import matplotlib.pyplot as plt\n",
        "%matplotlib inline\n",
        "from sklearn import preprocessing\n",
        "from sklearn import model_selection,neighbors\n",
        "from sklearn.model_selection import train_test_split\n",
        "from sklearn.model_selection import cross_val_score\n",
        "from sklearn.linear_model import LogisticRegression\n",
        "from sklearn.metrics import accuracy_score,recall_score,roc_auc_score,confusion_matrix"
      ]
    },
    {
      "cell_type": "markdown",
      "source": [
        "**Dataset collection**"
      ],
      "metadata": {
        "id": "AGiqvlW3jyFR"
      }
    },
    {
      "cell_type": "code",
      "source": [
        "# Get the dataset required\n",
        "dataSet = pd.read_csv('Monthly rainfall & flood.csv')\n",
        "dataSet.head()"
      ],
      "metadata": {
        "id": "WA5PQ-Cc7csh",
        "colab": {
          "base_uri": "https://localhost:8080/",
          "height": 206
        },
        "outputId": "39e424a1-58c1-4124-f117-edc5de0b57bf"
      },
      "execution_count": 35,
      "outputs": [
        {
          "output_type": "execute_result",
          "data": {
            "text/plain": [
              "   Year  Jan  Feb  Mar  Apr  May  Jun  Jul  Aug  Sep  Oct  Nov  Dec  \\\n",
              "0  1981  113  112  172  270  267  281  159  113  290  208  396  120   \n",
              "1  1982   47   39  251  360  454  573  217  170  146  481  562  110   \n",
              "2  1983   39   47   81  106  318  218  145  211  310  215  281  425   \n",
              "3  1984  277  219  375  465  333  265  330   35  250  236  428  198   \n",
              "4  1985  201  161  282  150  440  572  136  139  205  495  320  346   \n",
              "\n",
              "   Annual Rainfall  Floods  \n",
              "0             2501       0  \n",
              "1             3410       1  \n",
              "2             2396       0  \n",
              "3             3411       1  \n",
              "4             3447       1  "
            ],
            "text/html": [
              "\n",
              "  <div id=\"df-2728401d-3670-4381-9933-14854b01f925\">\n",
              "    <div class=\"colab-df-container\">\n",
              "      <div>\n",
              "<style scoped>\n",
              "    .dataframe tbody tr th:only-of-type {\n",
              "        vertical-align: middle;\n",
              "    }\n",
              "\n",
              "    .dataframe tbody tr th {\n",
              "        vertical-align: top;\n",
              "    }\n",
              "\n",
              "    .dataframe thead th {\n",
              "        text-align: right;\n",
              "    }\n",
              "</style>\n",
              "<table border=\"1\" class=\"dataframe\">\n",
              "  <thead>\n",
              "    <tr style=\"text-align: right;\">\n",
              "      <th></th>\n",
              "      <th>Year</th>\n",
              "      <th>Jan</th>\n",
              "      <th>Feb</th>\n",
              "      <th>Mar</th>\n",
              "      <th>Apr</th>\n",
              "      <th>May</th>\n",
              "      <th>Jun</th>\n",
              "      <th>Jul</th>\n",
              "      <th>Aug</th>\n",
              "      <th>Sep</th>\n",
              "      <th>Oct</th>\n",
              "      <th>Nov</th>\n",
              "      <th>Dec</th>\n",
              "      <th>Annual Rainfall</th>\n",
              "      <th>Floods</th>\n",
              "    </tr>\n",
              "  </thead>\n",
              "  <tbody>\n",
              "    <tr>\n",
              "      <th>0</th>\n",
              "      <td>1981</td>\n",
              "      <td>113</td>\n",
              "      <td>112</td>\n",
              "      <td>172</td>\n",
              "      <td>270</td>\n",
              "      <td>267</td>\n",
              "      <td>281</td>\n",
              "      <td>159</td>\n",
              "      <td>113</td>\n",
              "      <td>290</td>\n",
              "      <td>208</td>\n",
              "      <td>396</td>\n",
              "      <td>120</td>\n",
              "      <td>2501</td>\n",
              "      <td>0</td>\n",
              "    </tr>\n",
              "    <tr>\n",
              "      <th>1</th>\n",
              "      <td>1982</td>\n",
              "      <td>47</td>\n",
              "      <td>39</td>\n",
              "      <td>251</td>\n",
              "      <td>360</td>\n",
              "      <td>454</td>\n",
              "      <td>573</td>\n",
              "      <td>217</td>\n",
              "      <td>170</td>\n",
              "      <td>146</td>\n",
              "      <td>481</td>\n",
              "      <td>562</td>\n",
              "      <td>110</td>\n",
              "      <td>3410</td>\n",
              "      <td>1</td>\n",
              "    </tr>\n",
              "    <tr>\n",
              "      <th>2</th>\n",
              "      <td>1983</td>\n",
              "      <td>39</td>\n",
              "      <td>47</td>\n",
              "      <td>81</td>\n",
              "      <td>106</td>\n",
              "      <td>318</td>\n",
              "      <td>218</td>\n",
              "      <td>145</td>\n",
              "      <td>211</td>\n",
              "      <td>310</td>\n",
              "      <td>215</td>\n",
              "      <td>281</td>\n",
              "      <td>425</td>\n",
              "      <td>2396</td>\n",
              "      <td>0</td>\n",
              "    </tr>\n",
              "    <tr>\n",
              "      <th>3</th>\n",
              "      <td>1984</td>\n",
              "      <td>277</td>\n",
              "      <td>219</td>\n",
              "      <td>375</td>\n",
              "      <td>465</td>\n",
              "      <td>333</td>\n",
              "      <td>265</td>\n",
              "      <td>330</td>\n",
              "      <td>35</td>\n",
              "      <td>250</td>\n",
              "      <td>236</td>\n",
              "      <td>428</td>\n",
              "      <td>198</td>\n",
              "      <td>3411</td>\n",
              "      <td>1</td>\n",
              "    </tr>\n",
              "    <tr>\n",
              "      <th>4</th>\n",
              "      <td>1985</td>\n",
              "      <td>201</td>\n",
              "      <td>161</td>\n",
              "      <td>282</td>\n",
              "      <td>150</td>\n",
              "      <td>440</td>\n",
              "      <td>572</td>\n",
              "      <td>136</td>\n",
              "      <td>139</td>\n",
              "      <td>205</td>\n",
              "      <td>495</td>\n",
              "      <td>320</td>\n",
              "      <td>346</td>\n",
              "      <td>3447</td>\n",
              "      <td>1</td>\n",
              "    </tr>\n",
              "  </tbody>\n",
              "</table>\n",
              "</div>\n",
              "      <button class=\"colab-df-convert\" onclick=\"convertToInteractive('df-2728401d-3670-4381-9933-14854b01f925')\"\n",
              "              title=\"Convert this dataframe to an interactive table.\"\n",
              "              style=\"display:none;\">\n",
              "        \n",
              "  <svg xmlns=\"http://www.w3.org/2000/svg\" height=\"24px\"viewBox=\"0 0 24 24\"\n",
              "       width=\"24px\">\n",
              "    <path d=\"M0 0h24v24H0V0z\" fill=\"none\"/>\n",
              "    <path d=\"M18.56 5.44l.94 2.06.94-2.06 2.06-.94-2.06-.94-.94-2.06-.94 2.06-2.06.94zm-11 1L8.5 8.5l.94-2.06 2.06-.94-2.06-.94L8.5 2.5l-.94 2.06-2.06.94zm10 10l.94 2.06.94-2.06 2.06-.94-2.06-.94-.94-2.06-.94 2.06-2.06.94z\"/><path d=\"M17.41 7.96l-1.37-1.37c-.4-.4-.92-.59-1.43-.59-.52 0-1.04.2-1.43.59L10.3 9.45l-7.72 7.72c-.78.78-.78 2.05 0 2.83L4 21.41c.39.39.9.59 1.41.59.51 0 1.02-.2 1.41-.59l7.78-7.78 2.81-2.81c.8-.78.8-2.07 0-2.86zM5.41 20L4 18.59l7.72-7.72 1.47 1.35L5.41 20z\"/>\n",
              "  </svg>\n",
              "      </button>\n",
              "      \n",
              "  <style>\n",
              "    .colab-df-container {\n",
              "      display:flex;\n",
              "      flex-wrap:wrap;\n",
              "      gap: 12px;\n",
              "    }\n",
              "\n",
              "    .colab-df-convert {\n",
              "      background-color: #E8F0FE;\n",
              "      border: none;\n",
              "      border-radius: 50%;\n",
              "      cursor: pointer;\n",
              "      display: none;\n",
              "      fill: #1967D2;\n",
              "      height: 32px;\n",
              "      padding: 0 0 0 0;\n",
              "      width: 32px;\n",
              "    }\n",
              "\n",
              "    .colab-df-convert:hover {\n",
              "      background-color: #E2EBFA;\n",
              "      box-shadow: 0px 1px 2px rgba(60, 64, 67, 0.3), 0px 1px 3px 1px rgba(60, 64, 67, 0.15);\n",
              "      fill: #174EA6;\n",
              "    }\n",
              "\n",
              "    [theme=dark] .colab-df-convert {\n",
              "      background-color: #3B4455;\n",
              "      fill: #D2E3FC;\n",
              "    }\n",
              "\n",
              "    [theme=dark] .colab-df-convert:hover {\n",
              "      background-color: #434B5C;\n",
              "      box-shadow: 0px 1px 3px 1px rgba(0, 0, 0, 0.15);\n",
              "      filter: drop-shadow(0px 1px 2px rgba(0, 0, 0, 0.3));\n",
              "      fill: #FFFFFF;\n",
              "    }\n",
              "  </style>\n",
              "\n",
              "      <script>\n",
              "        const buttonEl =\n",
              "          document.querySelector('#df-2728401d-3670-4381-9933-14854b01f925 button.colab-df-convert');\n",
              "        buttonEl.style.display =\n",
              "          google.colab.kernel.accessAllowed ? 'block' : 'none';\n",
              "\n",
              "        async function convertToInteractive(key) {\n",
              "          const element = document.querySelector('#df-2728401d-3670-4381-9933-14854b01f925');\n",
              "          const dataTable =\n",
              "            await google.colab.kernel.invokeFunction('convertToInteractive',\n",
              "                                                     [key], {});\n",
              "          if (!dataTable) return;\n",
              "\n",
              "          const docLinkHtml = 'Like what you see? Visit the ' +\n",
              "            '<a target=\"_blank\" href=https://colab.research.google.com/notebooks/data_table.ipynb>data table notebook</a>'\n",
              "            + ' to learn more about interactive tables.';\n",
              "          element.innerHTML = '';\n",
              "          dataTable['output_type'] = 'display_data';\n",
              "          await google.colab.output.renderOutput(dataTable, element);\n",
              "          const docLink = document.createElement('div');\n",
              "          docLink.innerHTML = docLinkHtml;\n",
              "          element.appendChild(docLink);\n",
              "        }\n",
              "      </script>\n",
              "    </div>\n",
              "  </div>\n",
              "  "
            ]
          },
          "metadata": {},
          "execution_count": 35
        }
      ]
    },
    {
      "cell_type": "code",
      "source": [
        "# Selecting month depending on input\n",
        "\n",
        "month = input(\"Enter month: \")\n",
        "\n",
        "if month == \"january\":\n",
        "    monthly_RF = dataSet.iloc[:,1:2]\n",
        "    monthly_F = dataSet.iloc[:, -1]\n",
        "\n",
        "elif month == \"february\":\n",
        "    monthly_RF = dataSet.iloc[:,2:3]\n",
        "    monthly_F = dataSet.iloc[:, -1]\n",
        "\n",
        "elif month == \"march\":\n",
        "    monthly_RF = dataSet.iloc[:,3:4]\n",
        "    monthly_F = dataSet.iloc[:, -1]\n",
        "\n",
        "elif month == \"april\":\n",
        "    monthly_RF = dataSet.iloc[:,4:5]\n",
        "    monthly_F = dataSet.iloc[:, -1]\n",
        "\n",
        "elif month == \"may\":\n",
        "    monthly_RF = dataSet.iloc[:,5:6]\n",
        "    monthly_F = dataSet.iloc[:, -1]\n",
        "\n",
        "elif month == \"june\":\n",
        "    monthly_RF = dataSet.iloc[:,6:7]\n",
        "    monthly_F = dataSet.iloc[:, -1]\n",
        "\n",
        "elif month == \"july\":\n",
        "    monthly_RF = dataSet.iloc[:,7:8]\n",
        "    monthly_F = dataSet.iloc[:, -1]\n",
        "\n",
        "elif month == \"august\":\n",
        "    monthly_RF = dataSet.iloc[:,8:9]\n",
        "    monthly_F = dataSet.iloc[:, -1]\n",
        "\n",
        "elif month == \"september\": \n",
        "    monthly_RF = dataSet.iloc[:,9:10]\n",
        "    monthly_F = dataSet.iloc[:, -1]\n",
        "\n",
        "elif month == \"october\":\n",
        "    monthly_RF = dataSet.iloc[:,10:11]\n",
        "    monthly_F = dataSet.iloc[:, -1]\n",
        "\n",
        "elif month == \"november\":\n",
        "    monthly_RF = dataSet.iloc[:,11:12]\n",
        "    monthly_F = dataSet.iloc[:, -1]\n",
        "\n",
        "elif month == \"december\":\n",
        "    monthly_RF = dataSet.iloc[:,12:13]\n",
        "    monthly_F = dataSet.iloc[:, -1]\n",
        "else:\n",
        "    print (\"Incorrect month!\")\n"
      ],
      "metadata": {
        "id": "ngBAswcd8l5Q",
        "colab": {
          "base_uri": "https://localhost:8080/"
        },
        "outputId": "f4b3e8e4-7c81-44f6-b0c6-2a8097c609c9"
      },
      "execution_count": 15,
      "outputs": [
        {
          "name": "stdout",
          "output_type": "stream",
          "text": [
            "Enter month: may\n"
          ]
        }
      ]
    },
    {
      "cell_type": "code",
      "source": [
        "# Scaling data between 0 - 1\n",
        "minmax = preprocessing.MinMaxScaler(feature_range=(0,1))\n",
        "minmax.fit(monthly_RF).transform(monthly_RF)\n"
      ],
      "metadata": {
        "id": "BeruqgzL9ecI",
        "colab": {
          "base_uri": "https://localhost:8080/"
        },
        "outputId": "7f7bca04-9c0d-492f-c6b9-f4591d4299d3"
      },
      "execution_count": 36,
      "outputs": [
        {
          "output_type": "execute_result",
          "data": {
            "text/plain": [
              "array([[0.25612745],\n",
              "       [0.48529412],\n",
              "       [0.31862745],\n",
              "       [0.3370098 ],\n",
              "       [0.46813725],\n",
              "       [0.13357843],\n",
              "       [0.19852941],\n",
              "       [0.35171569],\n",
              "       [0.32230392],\n",
              "       [0.39215686],\n",
              "       [0.30882353],\n",
              "       [0.31617647],\n",
              "       [0.64583333],\n",
              "       [0.36642157],\n",
              "       [0.50490196],\n",
              "       [0.        ],\n",
              "       [0.4129902 ],\n",
              "       [0.42034314],\n",
              "       [0.46568627],\n",
              "       [0.1495098 ],\n",
              "       [0.14705882],\n",
              "       [0.28921569],\n",
              "       [0.20220588],\n",
              "       [0.42401961],\n",
              "       [0.16666667],\n",
              "       [0.28676471],\n",
              "       [0.13357843],\n",
              "       [0.31372549],\n",
              "       [0.40196078],\n",
              "       [0.45343137],\n",
              "       [0.04901961],\n",
              "       [0.10416667],\n",
              "       [0.56617647],\n",
              "       [0.29411765],\n",
              "       [0.36029412],\n",
              "       [1.        ],\n",
              "       [0.79044118],\n",
              "       [0.71936275],\n",
              "       [0.25      ],\n",
              "       [0.64705882]])"
            ]
          },
          "metadata": {},
          "execution_count": 36
        }
      ]
    },
    {
      "cell_type": "code",
      "source": [
        "# Split the datasets into train and test \n",
        "monthly_RF_train, monthly_RF_test, monthly_F_train, monthly_F_test=train_test_split(monthly_RF, monthly_F, test_size=0.2)\n"
      ],
      "metadata": {
        "id": "92QPdLqQ_PH_"
      },
      "execution_count": 37,
      "outputs": []
    },
    {
      "cell_type": "code",
      "source": [
        "monthly_RF_train.head()"
      ],
      "metadata": {
        "id": "pyiOSUuQAwRW",
        "colab": {
          "base_uri": "https://localhost:8080/",
          "height": 206
        },
        "outputId": "5e135efb-77b5-4a57-9490-f49b3bac40a2"
      },
      "execution_count": 31,
      "outputs": [
        {
          "output_type": "execute_result",
          "data": {
            "text/plain": [
              "    May\n",
              "20  178\n",
              "34  352\n",
              "15   58\n",
              "25  292\n",
              "19  180"
            ],
            "text/html": [
              "\n",
              "  <div id=\"df-65011699-6df0-4c27-8f2c-068bf9b536df\">\n",
              "    <div class=\"colab-df-container\">\n",
              "      <div>\n",
              "<style scoped>\n",
              "    .dataframe tbody tr th:only-of-type {\n",
              "        vertical-align: middle;\n",
              "    }\n",
              "\n",
              "    .dataframe tbody tr th {\n",
              "        vertical-align: top;\n",
              "    }\n",
              "\n",
              "    .dataframe thead th {\n",
              "        text-align: right;\n",
              "    }\n",
              "</style>\n",
              "<table border=\"1\" class=\"dataframe\">\n",
              "  <thead>\n",
              "    <tr style=\"text-align: right;\">\n",
              "      <th></th>\n",
              "      <th>May</th>\n",
              "    </tr>\n",
              "  </thead>\n",
              "  <tbody>\n",
              "    <tr>\n",
              "      <th>20</th>\n",
              "      <td>178</td>\n",
              "    </tr>\n",
              "    <tr>\n",
              "      <th>34</th>\n",
              "      <td>352</td>\n",
              "    </tr>\n",
              "    <tr>\n",
              "      <th>15</th>\n",
              "      <td>58</td>\n",
              "    </tr>\n",
              "    <tr>\n",
              "      <th>25</th>\n",
              "      <td>292</td>\n",
              "    </tr>\n",
              "    <tr>\n",
              "      <th>19</th>\n",
              "      <td>180</td>\n",
              "    </tr>\n",
              "  </tbody>\n",
              "</table>\n",
              "</div>\n",
              "      <button class=\"colab-df-convert\" onclick=\"convertToInteractive('df-65011699-6df0-4c27-8f2c-068bf9b536df')\"\n",
              "              title=\"Convert this dataframe to an interactive table.\"\n",
              "              style=\"display:none;\">\n",
              "        \n",
              "  <svg xmlns=\"http://www.w3.org/2000/svg\" height=\"24px\"viewBox=\"0 0 24 24\"\n",
              "       width=\"24px\">\n",
              "    <path d=\"M0 0h24v24H0V0z\" fill=\"none\"/>\n",
              "    <path d=\"M18.56 5.44l.94 2.06.94-2.06 2.06-.94-2.06-.94-.94-2.06-.94 2.06-2.06.94zm-11 1L8.5 8.5l.94-2.06 2.06-.94-2.06-.94L8.5 2.5l-.94 2.06-2.06.94zm10 10l.94 2.06.94-2.06 2.06-.94-2.06-.94-.94-2.06-.94 2.06-2.06.94z\"/><path d=\"M17.41 7.96l-1.37-1.37c-.4-.4-.92-.59-1.43-.59-.52 0-1.04.2-1.43.59L10.3 9.45l-7.72 7.72c-.78.78-.78 2.05 0 2.83L4 21.41c.39.39.9.59 1.41.59.51 0 1.02-.2 1.41-.59l7.78-7.78 2.81-2.81c.8-.78.8-2.07 0-2.86zM5.41 20L4 18.59l7.72-7.72 1.47 1.35L5.41 20z\"/>\n",
              "  </svg>\n",
              "      </button>\n",
              "      \n",
              "  <style>\n",
              "    .colab-df-container {\n",
              "      display:flex;\n",
              "      flex-wrap:wrap;\n",
              "      gap: 12px;\n",
              "    }\n",
              "\n",
              "    .colab-df-convert {\n",
              "      background-color: #E8F0FE;\n",
              "      border: none;\n",
              "      border-radius: 50%;\n",
              "      cursor: pointer;\n",
              "      display: none;\n",
              "      fill: #1967D2;\n",
              "      height: 32px;\n",
              "      padding: 0 0 0 0;\n",
              "      width: 32px;\n",
              "    }\n",
              "\n",
              "    .colab-df-convert:hover {\n",
              "      background-color: #E2EBFA;\n",
              "      box-shadow: 0px 1px 2px rgba(60, 64, 67, 0.3), 0px 1px 3px 1px rgba(60, 64, 67, 0.15);\n",
              "      fill: #174EA6;\n",
              "    }\n",
              "\n",
              "    [theme=dark] .colab-df-convert {\n",
              "      background-color: #3B4455;\n",
              "      fill: #D2E3FC;\n",
              "    }\n",
              "\n",
              "    [theme=dark] .colab-df-convert:hover {\n",
              "      background-color: #434B5C;\n",
              "      box-shadow: 0px 1px 3px 1px rgba(0, 0, 0, 0.15);\n",
              "      filter: drop-shadow(0px 1px 2px rgba(0, 0, 0, 0.3));\n",
              "      fill: #FFFFFF;\n",
              "    }\n",
              "  </style>\n",
              "\n",
              "      <script>\n",
              "        const buttonEl =\n",
              "          document.querySelector('#df-65011699-6df0-4c27-8f2c-068bf9b536df button.colab-df-convert');\n",
              "        buttonEl.style.display =\n",
              "          google.colab.kernel.accessAllowed ? 'block' : 'none';\n",
              "\n",
              "        async function convertToInteractive(key) {\n",
              "          const element = document.querySelector('#df-65011699-6df0-4c27-8f2c-068bf9b536df');\n",
              "          const dataTable =\n",
              "            await google.colab.kernel.invokeFunction('convertToInteractive',\n",
              "                                                     [key], {});\n",
              "          if (!dataTable) return;\n",
              "\n",
              "          const docLinkHtml = 'Like what you see? Visit the ' +\n",
              "            '<a target=\"_blank\" href=https://colab.research.google.com/notebooks/data_table.ipynb>data table notebook</a>'\n",
              "            + ' to learn more about interactive tables.';\n",
              "          element.innerHTML = '';\n",
              "          dataTable['output_type'] = 'display_data';\n",
              "          await google.colab.output.renderOutput(dataTable, element);\n",
              "          const docLink = document.createElement('div');\n",
              "          docLink.innerHTML = docLinkHtml;\n",
              "          element.appendChild(docLink);\n",
              "        }\n",
              "      </script>\n",
              "    </div>\n",
              "  </div>\n",
              "  "
            ]
          },
          "metadata": {},
          "execution_count": 31
        }
      ]
    },
    {
      "cell_type": "code",
      "source": [
        "monthly_RF_test.head()"
      ],
      "metadata": {
        "id": "Hu23Tsm7qZX1",
        "colab": {
          "base_uri": "https://localhost:8080/",
          "height": 206
        },
        "outputId": "f9ca88c2-0c78-4c65-d4f6-7c2199e3e3af"
      },
      "execution_count": 32,
      "outputs": [
        {
          "output_type": "execute_result",
          "data": {
            "text/plain": [
              "    May\n",
              "9   378\n",
              "11  316\n",
              "4   440\n",
              "38  262\n",
              "26  167"
            ],
            "text/html": [
              "\n",
              "  <div id=\"df-e56b2e66-0f81-413b-b33a-65164a42f1b0\">\n",
              "    <div class=\"colab-df-container\">\n",
              "      <div>\n",
              "<style scoped>\n",
              "    .dataframe tbody tr th:only-of-type {\n",
              "        vertical-align: middle;\n",
              "    }\n",
              "\n",
              "    .dataframe tbody tr th {\n",
              "        vertical-align: top;\n",
              "    }\n",
              "\n",
              "    .dataframe thead th {\n",
              "        text-align: right;\n",
              "    }\n",
              "</style>\n",
              "<table border=\"1\" class=\"dataframe\">\n",
              "  <thead>\n",
              "    <tr style=\"text-align: right;\">\n",
              "      <th></th>\n",
              "      <th>May</th>\n",
              "    </tr>\n",
              "  </thead>\n",
              "  <tbody>\n",
              "    <tr>\n",
              "      <th>9</th>\n",
              "      <td>378</td>\n",
              "    </tr>\n",
              "    <tr>\n",
              "      <th>11</th>\n",
              "      <td>316</td>\n",
              "    </tr>\n",
              "    <tr>\n",
              "      <th>4</th>\n",
              "      <td>440</td>\n",
              "    </tr>\n",
              "    <tr>\n",
              "      <th>38</th>\n",
              "      <td>262</td>\n",
              "    </tr>\n",
              "    <tr>\n",
              "      <th>26</th>\n",
              "      <td>167</td>\n",
              "    </tr>\n",
              "  </tbody>\n",
              "</table>\n",
              "</div>\n",
              "      <button class=\"colab-df-convert\" onclick=\"convertToInteractive('df-e56b2e66-0f81-413b-b33a-65164a42f1b0')\"\n",
              "              title=\"Convert this dataframe to an interactive table.\"\n",
              "              style=\"display:none;\">\n",
              "        \n",
              "  <svg xmlns=\"http://www.w3.org/2000/svg\" height=\"24px\"viewBox=\"0 0 24 24\"\n",
              "       width=\"24px\">\n",
              "    <path d=\"M0 0h24v24H0V0z\" fill=\"none\"/>\n",
              "    <path d=\"M18.56 5.44l.94 2.06.94-2.06 2.06-.94-2.06-.94-.94-2.06-.94 2.06-2.06.94zm-11 1L8.5 8.5l.94-2.06 2.06-.94-2.06-.94L8.5 2.5l-.94 2.06-2.06.94zm10 10l.94 2.06.94-2.06 2.06-.94-2.06-.94-.94-2.06-.94 2.06-2.06.94z\"/><path d=\"M17.41 7.96l-1.37-1.37c-.4-.4-.92-.59-1.43-.59-.52 0-1.04.2-1.43.59L10.3 9.45l-7.72 7.72c-.78.78-.78 2.05 0 2.83L4 21.41c.39.39.9.59 1.41.59.51 0 1.02-.2 1.41-.59l7.78-7.78 2.81-2.81c.8-.78.8-2.07 0-2.86zM5.41 20L4 18.59l7.72-7.72 1.47 1.35L5.41 20z\"/>\n",
              "  </svg>\n",
              "      </button>\n",
              "      \n",
              "  <style>\n",
              "    .colab-df-container {\n",
              "      display:flex;\n",
              "      flex-wrap:wrap;\n",
              "      gap: 12px;\n",
              "    }\n",
              "\n",
              "    .colab-df-convert {\n",
              "      background-color: #E8F0FE;\n",
              "      border: none;\n",
              "      border-radius: 50%;\n",
              "      cursor: pointer;\n",
              "      display: none;\n",
              "      fill: #1967D2;\n",
              "      height: 32px;\n",
              "      padding: 0 0 0 0;\n",
              "      width: 32px;\n",
              "    }\n",
              "\n",
              "    .colab-df-convert:hover {\n",
              "      background-color: #E2EBFA;\n",
              "      box-shadow: 0px 1px 2px rgba(60, 64, 67, 0.3), 0px 1px 3px 1px rgba(60, 64, 67, 0.15);\n",
              "      fill: #174EA6;\n",
              "    }\n",
              "\n",
              "    [theme=dark] .colab-df-convert {\n",
              "      background-color: #3B4455;\n",
              "      fill: #D2E3FC;\n",
              "    }\n",
              "\n",
              "    [theme=dark] .colab-df-convert:hover {\n",
              "      background-color: #434B5C;\n",
              "      box-shadow: 0px 1px 3px 1px rgba(0, 0, 0, 0.15);\n",
              "      filter: drop-shadow(0px 1px 2px rgba(0, 0, 0, 0.3));\n",
              "      fill: #FFFFFF;\n",
              "    }\n",
              "  </style>\n",
              "\n",
              "      <script>\n",
              "        const buttonEl =\n",
              "          document.querySelector('#df-e56b2e66-0f81-413b-b33a-65164a42f1b0 button.colab-df-convert');\n",
              "        buttonEl.style.display =\n",
              "          google.colab.kernel.accessAllowed ? 'block' : 'none';\n",
              "\n",
              "        async function convertToInteractive(key) {\n",
              "          const element = document.querySelector('#df-e56b2e66-0f81-413b-b33a-65164a42f1b0');\n",
              "          const dataTable =\n",
              "            await google.colab.kernel.invokeFunction('convertToInteractive',\n",
              "                                                     [key], {});\n",
              "          if (!dataTable) return;\n",
              "\n",
              "          const docLinkHtml = 'Like what you see? Visit the ' +\n",
              "            '<a target=\"_blank\" href=https://colab.research.google.com/notebooks/data_table.ipynb>data table notebook</a>'\n",
              "            + ' to learn more about interactive tables.';\n",
              "          element.innerHTML = '';\n",
              "          dataTable['output_type'] = 'display_data';\n",
              "          await google.colab.output.renderOutput(dataTable, element);\n",
              "          const docLink = document.createElement('div');\n",
              "          docLink.innerHTML = docLinkHtml;\n",
              "          element.appendChild(docLink);\n",
              "        }\n",
              "      </script>\n",
              "    </div>\n",
              "  </div>\n",
              "  "
            ]
          },
          "metadata": {},
          "execution_count": 32
        }
      ]
    },
    {
      "cell_type": "code",
      "source": [
        "monthly_F_train.head()"
      ],
      "metadata": {
        "id": "zVJZpr26A-Zv",
        "colab": {
          "base_uri": "https://localhost:8080/"
        },
        "outputId": "e0a53989-8b1a-44fd-ec51-e2918e196171"
      },
      "execution_count": 33,
      "outputs": [
        {
          "output_type": "execute_result",
          "data": {
            "text/plain": [
              "20    0\n",
              "34    1\n",
              "15    0\n",
              "25    1\n",
              "19    0\n",
              "Name: Floods, dtype: int64"
            ]
          },
          "metadata": {},
          "execution_count": 33
        }
      ]
    },
    {
      "cell_type": "code",
      "source": [
        "monthly_F_test.head()"
      ],
      "metadata": {
        "id": "Rhf_AsEqqfve",
        "colab": {
          "base_uri": "https://localhost:8080/"
        },
        "outputId": "d96cbc2a-d188-4afc-fc43-97aa27b76147"
      },
      "execution_count": 34,
      "outputs": [
        {
          "output_type": "execute_result",
          "data": {
            "text/plain": [
              "9     0\n",
              "11    0\n",
              "4     1\n",
              "38    1\n",
              "26    0\n",
              "Name: Floods, dtype: int64"
            ]
          },
          "metadata": {},
          "execution_count": 34
        }
      ]
    },
    {
      "cell_type": "markdown",
      "source": [
        "## Logistic Regression Machine Learning Algorithm"
      ],
      "metadata": {
        "id": "ZJ9U4kNhBw4G"
      }
    },
    {
      "cell_type": "markdown",
      "source": [
        "**Calculations**"
      ],
      "metadata": {
        "id": "Mo0hRrWxeWPJ"
      }
    },
    {
      "cell_type": "code",
      "source": [
        "#Prediction model\n",
        "monthly_RF_train_std = minmax.fit_transform(monthly_RF_train)\n",
        "monthly_RF_test_std = minmax.transform(monthly_RF_test)\n",
        "\n",
        "lr = LogisticRegression()\n",
        "lr_clf = lr.fit(monthly_RF_train_std, monthly_F_train)\n",
        "\n",
        "lr_accuracy = cross_val_score(lr_clf, monthly_RF_train_std, monthly_F_train, cv=3, scoring='accuracy', n_jobs=-1)\n",
        "\n",
        "lr_accuracy.mean()"
      ],
      "metadata": {
        "id": "1aZUuzjLBG6Q",
        "colab": {
          "base_uri": "https://localhost:8080/"
        },
        "outputId": "fd8e723f-d3d5-4852-b0ee-e21ed9ae3515"
      },
      "execution_count": 22,
      "outputs": [
        {
          "output_type": "execute_result",
          "data": {
            "text/plain": [
              "0.5939393939393939"
            ]
          },
          "metadata": {},
          "execution_count": 22
        }
      ]
    },
    {
      "cell_type": "markdown",
      "source": [
        "**Generate predicted labels**"
      ],
      "metadata": {
        "id": "kN6FfZMNeNLZ"
      }
    },
    {
      "cell_type": "code",
      "source": [
        "#Comparing predictions with real life data\n",
        "monthly_F_predict = lr_clf.predict(monthly_RF_train_std)\n",
        "print('Flood has been predicted.')\n",
        "print(monthly_F_predict)\n",
        "\n",
        "print('Actual chances of flood')\n",
        "print(monthly_F_train.values)\n"
      ],
      "metadata": {
        "id": "KXmsyrSHCgde",
        "colab": {
          "base_uri": "https://localhost:8080/"
        },
        "outputId": "36e0be74-e52d-45c3-ba30-bbffef4c79c7"
      },
      "execution_count": 23,
      "outputs": [
        {
          "output_type": "stream",
          "name": "stdout",
          "text": [
            "Flood has been predicted.\n",
            "[1 1 0 1 1 1 1 1 1 1 1 0 1 1 1 1 1 1 1 1 1 1 1 1 1 1 1 1 1 1 1 1]\n",
            "Actual chances of flood\n",
            "[0 1 0 1 0 1 1 1 1 1 0 0 0 0 1 1 1 1 0 1 0 1 1 1 0 1 1 0 0 1 0 1]\n"
          ]
        }
      ]
    },
    {
      "cell_type": "markdown",
      "source": [
        "**Comparing predicted and actual results**"
      ],
      "metadata": {
        "id": "yeJZhPaHyMG0"
      }
    },
    {
      "cell_type": "code",
      "source": [
        "print(\"\\naccuracy score: %f\"%(accuracy_score(monthly_F_train,monthly_F_predict)*100))\n",
        "print(\"recall score: %f\"%(recall_score(monthly_F_train,monthly_F_predict)*100))\n",
        "print(\"roc score: %f\"%(roc_auc_score(monthly_F_train,monthly_F_predict)*100))"
      ],
      "metadata": {
        "colab": {
          "base_uri": "https://localhost:8080/"
        },
        "id": "BkVu4XO3yLts",
        "outputId": "d0cab83c-33ed-4532-e878-f5ef1807d7df"
      },
      "execution_count": 40,
      "outputs": [
        {
          "output_type": "stream",
          "name": "stdout",
          "text": [
            "\n",
            "accuracy score: 46.875000\n",
            "recall score: 88.235294\n",
            "roc score: 44.117647\n"
          ]
        }
      ]
    },
    {
      "cell_type": "markdown",
      "source": [
        "**Final accuracy**"
      ],
      "metadata": {
        "id": "C54YYgCrkA5i"
      }
    },
    {
      "cell_type": "code",
      "source": [
        "#Seperating the prediction out into three categories, High risk, Medium risk and Low risk\n",
        "if (accuracy_score(monthly_F_train,monthly_F_predict)*100)>=65:{\n",
        "    print(\"High risk of flood in \" + month)\n",
        "}\n",
        "elif (accuracy_score(monthly_F_train,monthly_F_predict)*100)>=35: {\n",
        "    print(\"Medium risk of flood in \" + month)\n",
        "}\n",
        "else: {\n",
        "    print(\"Low risk of flood in \" + month)\n",
        "}"
      ],
      "metadata": {
        "colab": {
          "base_uri": "https://localhost:8080/"
        },
        "id": "PrzppoEQWnGM",
        "outputId": "5d628985-afa5-463e-8705-ec12f2ef9160"
      },
      "execution_count": 41,
      "outputs": [
        {
          "output_type": "stream",
          "name": "stdout",
          "text": [
            "Medium risk of flood in may\n"
          ]
        }
      ]
    }
  ]
}