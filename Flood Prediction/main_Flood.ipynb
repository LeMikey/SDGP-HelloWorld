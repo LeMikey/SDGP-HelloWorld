{
  "nbformat": 4,
  "nbformat_minor": 0,
  "metadata": {
    "colab": {
      "name": "main_Flood.ipynb",
      "provenance": [],
      "collapsed_sections": [],
      "authorship_tag": "ABX9TyN3+yY16KEkw/+/wWoyr6v9",
      "include_colab_link": true
    },
    "kernelspec": {
      "name": "python3",
      "display_name": "Python 3"
    },
    "language_info": {
      "name": "python"
    }
  },
  "cells": [
    {
      "cell_type": "markdown",
      "metadata": {
        "id": "view-in-github",
        "colab_type": "text"
      },
      "source": [
        "<a href=\"https://colab.research.google.com/github/LeMikey/SDGP-HelloWorld/blob/main/Flood%20Prediction/main_Flood.ipynb\" target=\"_parent\"><img src=\"https://colab.research.google.com/assets/colab-badge.svg\" alt=\"Open In Colab\"/></a>"
      ]
    },
    {
      "cell_type": "markdown",
      "source": [
        "# **Flood Prediction System**\n"
      ],
      "metadata": {
        "id": "3l95MMRWc7hW"
      }
    },
    {
      "cell_type": "markdown",
      "source": [
        "**Imports**"
      ],
      "metadata": {
        "id": "UKGq07MYjsmq"
      }
    },
    {
      "cell_type": "code",
      "execution_count": null,
      "metadata": {
        "id": "r6ctAw-el1Sp"
      },
      "outputs": [],
      "source": [
        "import numpy as np\n",
        "import pandas as pd\n",
        "import matplotlib.pyplot as plt\n",
        "%matplotlib inline\n",
        "from sklearn import preprocessing\n",
        "from sklearn import model_selection,neighbors\n",
        "from sklearn.model_selection import train_test_split\n",
        "from sklearn.model_selection import cross_val_score\n",
        "from sklearn.linear_model import LogisticRegression\n",
        "from sklearn.metrics import accuracy_score,recall_score,roc_auc_score,confusion_matrix"
      ]
    },
    {
      "cell_type": "markdown",
      "source": [
        "**Dataset collection**"
      ],
      "metadata": {
        "id": "AGiqvlW3jyFR"
      }
    },
    {
      "cell_type": "code",
      "source": [
        "# Get the dataset required\n",
        "dataSet = pd.read_csv('Monthly rainfall & flood.csv')\n",
        "dataSet"
      ],
      "metadata": {
        "id": "WA5PQ-Cc7csh"
      },
      "execution_count": null,
      "outputs": []
    },
    {
      "cell_type": "code",
      "source": [
        "# Seperating the dataset for calculations\n",
        "monthly_RF = dataSet.iloc[:,1:13]\n",
        "\n",
        "monthly_F = dataSet.iloc[:, -1]\n"
      ],
      "metadata": {
        "id": "ngBAswcd8l5Q"
      },
      "execution_count": null,
      "outputs": []
    },
    {
      "cell_type": "code",
      "source": [
        "# Scaling data between 0 - 1\n",
        "minmax = preprocessing.MinMaxScaler(feature_range=(0,1))\n",
        "minmax.fit(monthly_RF).transform(monthly_RF)\n"
      ],
      "metadata": {
        "id": "BeruqgzL9ecI"
      },
      "execution_count": null,
      "outputs": []
    },
    {
      "cell_type": "code",
      "source": [
        "# Split the datasets into train and test \n",
        "monthly_RF_train, monthly_RF_test, monthly_F_train, monthly_F_test=train_test_split(monthly_RF, monthly_F, test_size=0.2)\n"
      ],
      "metadata": {
        "id": "92QPdLqQ_PH_"
      },
      "execution_count": null,
      "outputs": []
    },
    {
      "cell_type": "code",
      "source": [
        "monthly_RF_train.head()"
      ],
      "metadata": {
        "id": "pyiOSUuQAwRW"
      },
      "execution_count": null,
      "outputs": []
    },
    {
      "cell_type": "code",
      "source": [
        "monthly_F_train.head()"
      ],
      "metadata": {
        "id": "zVJZpr26A-Zv"
      },
      "execution_count": null,
      "outputs": []
    },
    {
      "cell_type": "markdown",
      "source": [
        "## Logistic Regression Machine Learning Algorithm"
      ],
      "metadata": {
        "id": "ZJ9U4kNhBw4G"
      }
    },
    {
      "cell_type": "markdown",
      "source": [
        "**Calculations**"
      ],
      "metadata": {
        "id": "Mo0hRrWxeWPJ"
      }
    },
    {
      "cell_type": "code",
      "source": [
        "monthly_RF_train_std = minmax.fit_transform(monthly_RF_train)\n",
        "monthly_RF_test_std = minmax.transform(monthly_RF_test)\n",
        "\n",
        "lr = LogisticRegression()\n",
        "lr_clf = lr.fit(monthly_RF_train_std, monthly_F_train)\n",
        "\n",
        "lr_accuracy = cross_val_score(lr_clf, monthly_RF_train_std, monthly_F_train, cv=3, scoring='accuracy', n_jobs=-1)\n",
        "\n",
        "lr_accuracy.mean()"
      ],
      "metadata": {
        "id": "1aZUuzjLBG6Q",
        "colab": {
          "base_uri": "https://localhost:8080/"
        },
        "outputId": "118f758b-9eb4-4af5-932b-5ac463808943"
      },
      "execution_count": null,
      "outputs": [
        {
          "output_type": "execute_result",
          "data": {
            "text/plain": [
              "0.8727272727272727"
            ]
          },
          "metadata": {},
          "execution_count": 18
        }
      ]
    },
    {
      "cell_type": "markdown",
      "source": [
        "**Generate predicted labels**"
      ],
      "metadata": {
        "id": "kN6FfZMNeNLZ"
      }
    },
    {
      "cell_type": "code",
      "source": [
        "monthly_F_predict = lr_clf.predict(monthly_RF_train_std)\n",
        "print('Flood has been predicted.')\n",
        "print(monthly_F_predict)\n",
        "\n",
        "print('Actual chances of flood')\n",
        "print(monthly_F_train.values)\n"
      ],
      "metadata": {
        "id": "KXmsyrSHCgde"
      },
      "execution_count": null,
      "outputs": []
    },
    {
      "cell_type": "markdown",
      "source": [
        "**Final accuracy**"
      ],
      "metadata": {
        "id": "C54YYgCrkA5i"
      }
    },
    {
      "cell_type": "code",
      "source": [
        "if (accuracy_score(monthly_F_train,monthly_F_predict)*100)>=65:{\n",
        "    print(\"High risk of flood.\")\n",
        "}\n",
        "elif (accuracy_score(monthly_F_train,monthly_F_predict)*100)>=35: {\n",
        "    print(\"Medium risk of flood.\")\n",
        "}\n",
        "else: {\n",
        "    print(\"Low risk of flood.\")\n",
        "}"
      ],
      "metadata": {
        "colab": {
          "base_uri": "https://localhost:8080/"
        },
        "id": "PrzppoEQWnGM",
        "outputId": "18994874-b3fb-4e66-a632-66a2b4bfff0e"
      },
      "execution_count": null,
      "outputs": [
        {
          "output_type": "stream",
          "name": "stdout",
          "text": [
            "High risk of flood\n"
          ]
        }
      ]
    }
  ]
}