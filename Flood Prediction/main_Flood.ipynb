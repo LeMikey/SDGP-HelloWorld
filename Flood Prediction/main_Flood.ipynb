{
  "nbformat": 4,
  "nbformat_minor": 0,
  "metadata": {
    "colab": {
      "name": "main_Flood.ipynb",
      "provenance": [],
      "collapsed_sections": [],
      "authorship_tag": "ABX9TyNsTtdZByImRa7XrIjfRHfo",
      "include_colab_link": true
    },
    "kernelspec": {
      "name": "python3",
      "display_name": "Python 3"
    },
    "language_info": {
      "name": "python"
    }
  },
  "cells": [
    {
      "cell_type": "markdown",
      "metadata": {
        "id": "view-in-github",
        "colab_type": "text"
      },
      "source": [
        "<a href=\"https://colab.research.google.com/github/LeMikey/SDGP-HelloWorld/blob/main/Flood%20Prediction/main_Flood.ipynb\" target=\"_parent\"><img src=\"https://colab.research.google.com/assets/colab-badge.svg\" alt=\"Open In Colab\"/></a>"
      ]
    },
    {
      "cell_type": "markdown",
      "source": [
        "# **Flood Prediction System**\n"
      ],
      "metadata": {
        "id": "3l95MMRWc7hW"
      }
    },
    {
      "cell_type": "markdown",
      "source": [
        "**Imports**"
      ],
      "metadata": {
        "id": "UKGq07MYjsmq"
      }
    },
    {
      "cell_type": "code",
      "execution_count": 3,
      "metadata": {
        "id": "r6ctAw-el1Sp"
      },
      "outputs": [],
      "source": [
        "import numpy as np\n",
        "import pandas as pd\n",
        "import matplotlib.pyplot as plt\n",
        "%matplotlib inline\n",
        "from sklearn import preprocessing\n",
        "from sklearn import model_selection,neighbors\n",
        "from sklearn.model_selection import train_test_split\n",
        "from sklearn.model_selection import cross_val_score\n",
        "from sklearn.linear_model import LogisticRegression\n",
        "from sklearn.metrics import accuracy_score,recall_score,roc_auc_score,confusion_matrix"
      ]
    },
    {
      "cell_type": "markdown",
      "source": [
        "**Dataset collection**"
      ],
      "metadata": {
        "id": "AGiqvlW3jyFR"
      }
    },
    {
      "cell_type": "code",
      "source": [
        "# Get the dataset required\n",
        "dataSet = pd.read_csv('Monthly rainfall & flood.csv')\n",
        "dataSet"
      ],
      "metadata": {
        "id": "WA5PQ-Cc7csh"
      },
      "execution_count": null,
      "outputs": []
    },
    {
      "cell_type": "code",
      "source": [
        "# Seperating the dataset for calculations\n",
        "monthly_RF = dataSet.iloc[:,1:13]\n",
        "\n",
        "monthly_F = dataSet.iloc[:, -1]\n"
      ],
      "metadata": {
        "id": "ngBAswcd8l5Q"
      },
      "execution_count": 5,
      "outputs": []
    },
    {
      "cell_type": "code",
      "source": [
        "# Scaling data between 0 - 1\n",
        "minmax = preprocessing.MinMaxScaler(feature_range=(0,1))\n",
        "minmax.fit(monthly_RF).transform(monthly_RF)\n"
      ],
      "metadata": {
        "id": "BeruqgzL9ecI"
      },
      "execution_count": null,
      "outputs": []
    },
    {
      "cell_type": "code",
      "source": [
        "# Split the datasets into train and test \n",
        "monthly_RF_train, monthly_RF_test, monthly_F_train, monthly_F_test=train_test_split(monthly_RF, monthly_F, test_size=0.2)\n"
      ],
      "metadata": {
        "id": "92QPdLqQ_PH_"
      },
      "execution_count": 7,
      "outputs": []
    },
    {
      "cell_type": "code",
      "source": [
        "monthly_RF_train.head()"
      ],
      "metadata": {
        "id": "pyiOSUuQAwRW",
        "colab": {
          "base_uri": "https://localhost:8080/",
          "height": 206
        },
        "outputId": "6d2c68be-cf17-4889-bcd3-24cce30f8447"
      },
      "execution_count": 8,
      "outputs": [
        {
          "output_type": "execute_result",
          "data": {
            "text/plain": [
              "    Jan  Feb  Mar  Apr  May  Jun  Jul  Aug  Sep  Oct  Nov  Dec\n",
              "10  229   75  186  257  310  405  184  173   98  361  328  158\n",
              "31   64  170  204  420  143  257  151  320  348  555  416  327\n",
              "27  196  311  426  506  314  268  345  148  101  454  377  191\n",
              "30  239  177  193  467   98   32   40  117   25  149  331  172\n",
              "36  174   56  250  195  703  285  182  292  645  588  458  286"
            ],
            "text/html": [
              "\n",
              "  <div id=\"df-38e5c0ba-65f2-4886-8d84-543639f193f1\">\n",
              "    <div class=\"colab-df-container\">\n",
              "      <div>\n",
              "<style scoped>\n",
              "    .dataframe tbody tr th:only-of-type {\n",
              "        vertical-align: middle;\n",
              "    }\n",
              "\n",
              "    .dataframe tbody tr th {\n",
              "        vertical-align: top;\n",
              "    }\n",
              "\n",
              "    .dataframe thead th {\n",
              "        text-align: right;\n",
              "    }\n",
              "</style>\n",
              "<table border=\"1\" class=\"dataframe\">\n",
              "  <thead>\n",
              "    <tr style=\"text-align: right;\">\n",
              "      <th></th>\n",
              "      <th>Jan</th>\n",
              "      <th>Feb</th>\n",
              "      <th>Mar</th>\n",
              "      <th>Apr</th>\n",
              "      <th>May</th>\n",
              "      <th>Jun</th>\n",
              "      <th>Jul</th>\n",
              "      <th>Aug</th>\n",
              "      <th>Sep</th>\n",
              "      <th>Oct</th>\n",
              "      <th>Nov</th>\n",
              "      <th>Dec</th>\n",
              "    </tr>\n",
              "  </thead>\n",
              "  <tbody>\n",
              "    <tr>\n",
              "      <th>10</th>\n",
              "      <td>229</td>\n",
              "      <td>75</td>\n",
              "      <td>186</td>\n",
              "      <td>257</td>\n",
              "      <td>310</td>\n",
              "      <td>405</td>\n",
              "      <td>184</td>\n",
              "      <td>173</td>\n",
              "      <td>98</td>\n",
              "      <td>361</td>\n",
              "      <td>328</td>\n",
              "      <td>158</td>\n",
              "    </tr>\n",
              "    <tr>\n",
              "      <th>31</th>\n",
              "      <td>64</td>\n",
              "      <td>170</td>\n",
              "      <td>204</td>\n",
              "      <td>420</td>\n",
              "      <td>143</td>\n",
              "      <td>257</td>\n",
              "      <td>151</td>\n",
              "      <td>320</td>\n",
              "      <td>348</td>\n",
              "      <td>555</td>\n",
              "      <td>416</td>\n",
              "      <td>327</td>\n",
              "    </tr>\n",
              "    <tr>\n",
              "      <th>27</th>\n",
              "      <td>196</td>\n",
              "      <td>311</td>\n",
              "      <td>426</td>\n",
              "      <td>506</td>\n",
              "      <td>314</td>\n",
              "      <td>268</td>\n",
              "      <td>345</td>\n",
              "      <td>148</td>\n",
              "      <td>101</td>\n",
              "      <td>454</td>\n",
              "      <td>377</td>\n",
              "      <td>191</td>\n",
              "    </tr>\n",
              "    <tr>\n",
              "      <th>30</th>\n",
              "      <td>239</td>\n",
              "      <td>177</td>\n",
              "      <td>193</td>\n",
              "      <td>467</td>\n",
              "      <td>98</td>\n",
              "      <td>32</td>\n",
              "      <td>40</td>\n",
              "      <td>117</td>\n",
              "      <td>25</td>\n",
              "      <td>149</td>\n",
              "      <td>331</td>\n",
              "      <td>172</td>\n",
              "    </tr>\n",
              "    <tr>\n",
              "      <th>36</th>\n",
              "      <td>174</td>\n",
              "      <td>56</td>\n",
              "      <td>250</td>\n",
              "      <td>195</td>\n",
              "      <td>703</td>\n",
              "      <td>285</td>\n",
              "      <td>182</td>\n",
              "      <td>292</td>\n",
              "      <td>645</td>\n",
              "      <td>588</td>\n",
              "      <td>458</td>\n",
              "      <td>286</td>\n",
              "    </tr>\n",
              "  </tbody>\n",
              "</table>\n",
              "</div>\n",
              "      <button class=\"colab-df-convert\" onclick=\"convertToInteractive('df-38e5c0ba-65f2-4886-8d84-543639f193f1')\"\n",
              "              title=\"Convert this dataframe to an interactive table.\"\n",
              "              style=\"display:none;\">\n",
              "        \n",
              "  <svg xmlns=\"http://www.w3.org/2000/svg\" height=\"24px\"viewBox=\"0 0 24 24\"\n",
              "       width=\"24px\">\n",
              "    <path d=\"M0 0h24v24H0V0z\" fill=\"none\"/>\n",
              "    <path d=\"M18.56 5.44l.94 2.06.94-2.06 2.06-.94-2.06-.94-.94-2.06-.94 2.06-2.06.94zm-11 1L8.5 8.5l.94-2.06 2.06-.94-2.06-.94L8.5 2.5l-.94 2.06-2.06.94zm10 10l.94 2.06.94-2.06 2.06-.94-2.06-.94-.94-2.06-.94 2.06-2.06.94z\"/><path d=\"M17.41 7.96l-1.37-1.37c-.4-.4-.92-.59-1.43-.59-.52 0-1.04.2-1.43.59L10.3 9.45l-7.72 7.72c-.78.78-.78 2.05 0 2.83L4 21.41c.39.39.9.59 1.41.59.51 0 1.02-.2 1.41-.59l7.78-7.78 2.81-2.81c.8-.78.8-2.07 0-2.86zM5.41 20L4 18.59l7.72-7.72 1.47 1.35L5.41 20z\"/>\n",
              "  </svg>\n",
              "      </button>\n",
              "      \n",
              "  <style>\n",
              "    .colab-df-container {\n",
              "      display:flex;\n",
              "      flex-wrap:wrap;\n",
              "      gap: 12px;\n",
              "    }\n",
              "\n",
              "    .colab-df-convert {\n",
              "      background-color: #E8F0FE;\n",
              "      border: none;\n",
              "      border-radius: 50%;\n",
              "      cursor: pointer;\n",
              "      display: none;\n",
              "      fill: #1967D2;\n",
              "      height: 32px;\n",
              "      padding: 0 0 0 0;\n",
              "      width: 32px;\n",
              "    }\n",
              "\n",
              "    .colab-df-convert:hover {\n",
              "      background-color: #E2EBFA;\n",
              "      box-shadow: 0px 1px 2px rgba(60, 64, 67, 0.3), 0px 1px 3px 1px rgba(60, 64, 67, 0.15);\n",
              "      fill: #174EA6;\n",
              "    }\n",
              "\n",
              "    [theme=dark] .colab-df-convert {\n",
              "      background-color: #3B4455;\n",
              "      fill: #D2E3FC;\n",
              "    }\n",
              "\n",
              "    [theme=dark] .colab-df-convert:hover {\n",
              "      background-color: #434B5C;\n",
              "      box-shadow: 0px 1px 3px 1px rgba(0, 0, 0, 0.15);\n",
              "      filter: drop-shadow(0px 1px 2px rgba(0, 0, 0, 0.3));\n",
              "      fill: #FFFFFF;\n",
              "    }\n",
              "  </style>\n",
              "\n",
              "      <script>\n",
              "        const buttonEl =\n",
              "          document.querySelector('#df-38e5c0ba-65f2-4886-8d84-543639f193f1 button.colab-df-convert');\n",
              "        buttonEl.style.display =\n",
              "          google.colab.kernel.accessAllowed ? 'block' : 'none';\n",
              "\n",
              "        async function convertToInteractive(key) {\n",
              "          const element = document.querySelector('#df-38e5c0ba-65f2-4886-8d84-543639f193f1');\n",
              "          const dataTable =\n",
              "            await google.colab.kernel.invokeFunction('convertToInteractive',\n",
              "                                                     [key], {});\n",
              "          if (!dataTable) return;\n",
              "\n",
              "          const docLinkHtml = 'Like what you see? Visit the ' +\n",
              "            '<a target=\"_blank\" href=https://colab.research.google.com/notebooks/data_table.ipynb>data table notebook</a>'\n",
              "            + ' to learn more about interactive tables.';\n",
              "          element.innerHTML = '';\n",
              "          dataTable['output_type'] = 'display_data';\n",
              "          await google.colab.output.renderOutput(dataTable, element);\n",
              "          const docLink = document.createElement('div');\n",
              "          docLink.innerHTML = docLinkHtml;\n",
              "          element.appendChild(docLink);\n",
              "        }\n",
              "      </script>\n",
              "    </div>\n",
              "  </div>\n",
              "  "
            ]
          },
          "metadata": {},
          "execution_count": 8
        }
      ]
    },
    {
      "cell_type": "code",
      "source": [
        "monthly_F_train.head()"
      ],
      "metadata": {
        "id": "zVJZpr26A-Zv",
        "colab": {
          "base_uri": "https://localhost:8080/"
        },
        "outputId": "51414e9a-6ddd-44ea-9a4a-25eb20d1b24a"
      },
      "execution_count": 9,
      "outputs": [
        {
          "output_type": "execute_result",
          "data": {
            "text/plain": [
              "10    0\n",
              "31    1\n",
              "27    1\n",
              "30    0\n",
              "36    1\n",
              "Name: Floods, dtype: int64"
            ]
          },
          "metadata": {},
          "execution_count": 9
        }
      ]
    },
    {
      "cell_type": "markdown",
      "source": [
        "## Logistic Regression Machine Learning Algorithm"
      ],
      "metadata": {
        "id": "ZJ9U4kNhBw4G"
      }
    },
    {
      "cell_type": "markdown",
      "source": [
        "**Calculations**"
      ],
      "metadata": {
        "id": "Mo0hRrWxeWPJ"
      }
    },
    {
      "cell_type": "code",
      "source": [
        "#Prediction model\n",
        "monthly_RF_train_std = minmax.fit_transform(monthly_RF_train)\n",
        "monthly_RF_test_std = minmax.transform(monthly_RF_test)\n",
        "\n",
        "lr = LogisticRegression()\n",
        "lr_clf = lr.fit(monthly_RF_train_std, monthly_F_train)\n",
        "\n",
        "lr_accuracy = cross_val_score(lr_clf, monthly_RF_train_std, monthly_F_train, cv=3, scoring='accuracy', n_jobs=-1)\n",
        "\n",
        "lr_accuracy.mean()"
      ],
      "metadata": {
        "id": "1aZUuzjLBG6Q",
        "colab": {
          "base_uri": "https://localhost:8080/"
        },
        "outputId": "086fc22b-83c5-4e4e-c6a8-de14fa3cbae0"
      },
      "execution_count": 10,
      "outputs": [
        {
          "output_type": "execute_result",
          "data": {
            "text/plain": [
              "0.8121212121212121"
            ]
          },
          "metadata": {},
          "execution_count": 10
        }
      ]
    },
    {
      "cell_type": "markdown",
      "source": [
        "**Generate predicted labels**"
      ],
      "metadata": {
        "id": "kN6FfZMNeNLZ"
      }
    },
    {
      "cell_type": "code",
      "source": [
        "#Comparing predictions with real life data\n",
        "monthly_F_predict = lr_clf.predict(monthly_RF_train_std)\n",
        "print('Flood has been predicted.')\n",
        "print(monthly_F_predict)\n",
        "\n",
        "print('Actual chances of flood')\n",
        "print(monthly_F_train.values)\n"
      ],
      "metadata": {
        "id": "KXmsyrSHCgde",
        "colab": {
          "base_uri": "https://localhost:8080/"
        },
        "outputId": "fafc874f-7021-49e6-c781-eac58cc328ac"
      },
      "execution_count": 11,
      "outputs": [
        {
          "output_type": "stream",
          "name": "stdout",
          "text": [
            "Flood has been predicted.\n",
            "[0 1 1 0 1 1 0 0 1 1 1 1 0 1 1 0 1 1 0 1 1 0 0 0 1 1 1 1 0 1 0 1]\n",
            "Actual chances of flood\n",
            "[0 1 1 0 1 1 0 0 1 1 1 1 0 1 1 0 1 1 0 1 1 0 0 0 1 1 1 1 0 1 0 0]\n"
          ]
        }
      ]
    },
    {
      "cell_type": "markdown",
      "source": [
        "**Comparing predicted and actual results**"
      ],
      "metadata": {
        "id": "yeJZhPaHyMG0"
      }
    },
    {
      "cell_type": "code",
      "source": [
        "print(\"\\naccuracy score: %f\"%(accuracy_score(monthly_F_train,monthly_F_predict)*100))\n",
        "print(\"recall score: %f\"%(recall_score(monthly_F_train,monthly_F_predict)*100))\n",
        "print(\"roc score: %f\"%(roc_auc_score(monthly_F_train,monthly_F_predict)*100))"
      ],
      "metadata": {
        "colab": {
          "base_uri": "https://localhost:8080/"
        },
        "id": "BkVu4XO3yLts",
        "outputId": "9357292c-2ca7-4ab4-d248-2c333a9301bd"
      },
      "execution_count": 12,
      "outputs": [
        {
          "output_type": "stream",
          "name": "stdout",
          "text": [
            "\n",
            "accuracy score: 96.875000\n",
            "recall score: 100.000000\n",
            "roc score: 96.153846\n"
          ]
        }
      ]
    },
    {
      "cell_type": "markdown",
      "source": [
        "**Final accuracy**"
      ],
      "metadata": {
        "id": "C54YYgCrkA5i"
      }
    },
    {
      "cell_type": "code",
      "source": [
        "#Seperating the prediction out into three categories, High risk, Medium risk and Low risk\n",
        "if (accuracy_score(monthly_F_train,monthly_F_predict)*100)>=65:{\n",
        "    print(\"High risk of flood.\")\n",
        "}\n",
        "elif (accuracy_score(monthly_F_train,monthly_F_predict)*100)>=35: {\n",
        "    print(\"Medium risk of flood.\")\n",
        "}\n",
        "else: {\n",
        "    print(\"Low risk of flood.\")\n",
        "}"
      ],
      "metadata": {
        "colab": {
          "base_uri": "https://localhost:8080/"
        },
        "id": "PrzppoEQWnGM",
        "outputId": "be122673-3568-4f14-8c47-fc34c241fb47"
      },
      "execution_count": 13,
      "outputs": [
        {
          "output_type": "stream",
          "name": "stdout",
          "text": [
            "High risk of flood.\n"
          ]
        }
      ]
    }
  ]
}